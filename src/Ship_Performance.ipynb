{
 "cells": [
  {
   "cell_type": "code",
   "execution_count": null,
   "metadata": {},
   "outputs": [],
   "source": [
    "import pandas            as pd\n",
    "import missingno         as msno\n",
    "import seaborn           as sns\n",
    "import matplotlib.pyplot as plt\n",
    "import statsmodels.api   as sm\n",
    "import scipy.stats       as stats"
   ]
  },
  {
   "cell_type": "markdown",
   "metadata": {},
   "source": [
    "# Data Wrangling"
   ]
  },
  {
   "cell_type": "code",
   "execution_count": null,
   "metadata": {},
   "outputs": [],
   "source": [
    "# Import dataset into Pandas DataFrame\n",
    "df_raw    = pd.read_csv(\"../dat/ship_data.csv\")\n",
    "n_records = df_raw.shape[0]\n",
    "\n",
    "# Check column names and data types\n",
    "df_raw.info()"
   ]
  },
  {
   "cell_type": "markdown",
   "metadata": {},
   "source": [
    "### Missing Records"
   ]
  },
  {
   "cell_type": "code",
   "execution_count": null,
   "metadata": {
    "scrolled": false
   },
   "outputs": [],
   "source": [
    "# Check missing values\n",
    "print(df_raw.isnull().sum())\n",
    "msno.matrix(df_raw)"
   ]
  },
  {
   "cell_type": "code",
   "execution_count": null,
   "metadata": {
    "scrolled": false
   },
   "outputs": [],
   "source": [
    "# Drop rows with missing target (Main Engine Fuel Consumption) ~ 1% of records\n",
    "df_mod = df_raw.copy().dropna()\n",
    "df_mod = df_mod.reset_index().drop('index',axis=1)\n",
    "print('Percentage of missing records:   ', ((1 - df_mod.shape[0] / n_records) * 100))\n",
    "print('Percentage of remaining records: ', ((    df_mod.shape[0] / n_records) * 100))\n",
    "msno.matrix(df_mod)"
   ]
  },
  {
   "cell_type": "markdown",
   "metadata": {},
   "source": [
    "### Time Series Visualization"
   ]
  },
  {
   "cell_type": "code",
   "execution_count": null,
   "metadata": {},
   "outputs": [],
   "source": [
    "# Create helper sublists of column names\n",
    "cols_main  = df_mod.columns[0:4]\n",
    "cols_draft = df_mod.columns[4:8]\n",
    "cols_shaft = df_mod.columns[8:11]\n",
    "cols_speed = df_mod.columns[11:15]\n",
    "cols_wind  = df_mod.columns[15:19]\n",
    "cols_sea   = df_mod.columns[19:23]\n",
    "cols_wave  = df_mod.columns[23:26]\n",
    "df_mod.shape"
   ]
  },
  {
   "cell_type": "code",
   "execution_count": null,
   "metadata": {
    "scrolled": false
   },
   "outputs": [],
   "source": [
    "# Time and main engine\n",
    "fig_main, axes_main = plt.subplots(len(cols_main),1, figsize=(16,len(cols_main)*1.5), sharex=True)\n",
    "df_mod[cols_main].plot(subplots=True, ax=axes_main)"
   ]
  },
  {
   "cell_type": "code",
   "execution_count": null,
   "metadata": {},
   "outputs": [],
   "source": [
    "# Draft sensors\n",
    "fig_draft, axes_draft = plt.subplots(len(cols_draft),1, figsize=(16,len(cols_draft)*1.5), sharex=True)\n",
    "df_mod[cols_draft].plot(subplots=True, ax=axes_draft)"
   ]
  },
  {
   "cell_type": "code",
   "execution_count": null,
   "metadata": {},
   "outputs": [],
   "source": [
    "# Shaft performance\n",
    "fig_shaft, axes_shaft = plt.subplots(len(cols_shaft),1, figsize=(16,len(cols_shaft)*1.5), sharex=True)\n",
    "df_mod[cols_shaft].plot(subplots=True, ax=axes_shaft)"
   ]
  },
  {
   "cell_type": "code",
   "execution_count": null,
   "metadata": {},
   "outputs": [],
   "source": [
    "# Vessel speed\n",
    "fig_speed, axes_speed = plt.subplots(len(cols_speed),1, figsize=(16,len(cols_speed)*1.5), sharex=True)\n",
    "df_mod[cols_speed].plot(subplots=True, ax=axes_speed)"
   ]
  },
  {
   "cell_type": "code",
   "execution_count": null,
   "metadata": {},
   "outputs": [],
   "source": [
    "# Wind conditions\n",
    "fig_wind, axes_wind = plt.subplots(len(cols_wind),1, figsize=(16,len(cols_wind)*1.5), sharex=True)\n",
    "df_mod[cols_wind].plot(subplots=True, ax=axes_wind)"
   ]
  },
  {
   "cell_type": "code",
   "execution_count": null,
   "metadata": {},
   "outputs": [],
   "source": [
    "# Sea conditions\n",
    "fig_sea, axes_sea = plt.subplots(len(cols_sea),1, figsize=(16,len(cols_sea)*1.5), sharex=True)\n",
    "df_mod[cols_sea].plot(subplots=True, ax=axes_sea)"
   ]
  },
  {
   "cell_type": "code",
   "execution_count": null,
   "metadata": {},
   "outputs": [],
   "source": [
    "# Wave conditions\n",
    "fig_wave, axes_wave = plt.subplots(len(cols_wave),1, figsize=(16,len(cols_wave)*1.5), sharex=True)\n",
    "df_mod[cols_wave].plot(subplots=True, ax=axes_wave)"
   ]
  },
  {
   "cell_type": "markdown",
   "metadata": {},
   "source": [
    "### Data Cleaning"
   ]
  },
  {
   "cell_type": "code",
   "execution_count": null,
   "metadata": {},
   "outputs": [],
   "source": [
    "# Convert Unix time to datetime format\n",
    "df_mod['Time'] = pd.to_datetime(df_mod['Time'], unit='s')\n",
    "df_mod['Time'].head()"
   ]
  },
  {
   "cell_type": "code",
   "execution_count": null,
   "metadata": {},
   "outputs": [],
   "source": [
    "# Calibrate fuel consumption with most frequent near-zero measurement (-0.048 MT/day)\n",
    "print(df_mod[cols_main[1]].value_counts().head())\n",
    "df_mod[cols_main[1]] -= df_mod[cols_main[1]].value_counts().index[0]\n",
    "\n",
    "# Drop records with negative fuel consumption ~ 16.2% of records\n",
    "cutoff = 0.0\n",
    "print('Percentage of records with negative consumption: ',\n",
    "      df_mod[df_mod[cols_main[1]] < cutoff].shape[0] / n_records * 100)\n",
    "df_mod = df_mod.drop(df_mod[df_mod[cols_main[1]] < cutoff].index)\n",
    "df_mod = df_mod.reset_index().drop('index',axis=1)\n",
    "print('Percentage of remaining records:                 ', ((df_mod.shape[0] / n_records) * 100))"
   ]
  },
  {
   "cell_type": "code",
   "execution_count": null,
   "metadata": {},
   "outputs": [],
   "source": [
    "# Revert HFO and MGO to booleans (unbalanced value counts)\n",
    "print(df_mod[cols_main[2]].value_counts())\n",
    "df_mod[cols_main[2]] = df_mod[cols_main[2]].astype('int64')\n",
    "df_mod[cols_main[3]] = df_mod[cols_main[3]].astype('int64')\n",
    "\n",
    "# Check that only one fuel gauge is indicated at a time \n",
    "df_mod['Fuel Gauge'] = df_mod[cols_main[2]] + df_mod[cols_main[3]]\n",
    "print(df_mod['Fuel Gauge'].value_counts())\n",
    "\n",
    "# Drop records with neither HFO nor MGO indicator ~ 1.1% of records\n",
    "print('Percentage of records with no fuel indicator: ',\n",
    "      df_mod[df_mod['Fuel Gauge'] == 0].shape[0] / n_records * 100)\n",
    "df_mod = df_mod.drop(df_mod[df_mod['Fuel Gauge'] == 0].index)\n",
    "df_mod = df_mod.reset_index().drop('index',axis=1)\n",
    "print('Percentage of remaining records:              ', ((df_mod.shape[0] / n_records) * 100))"
   ]
  },
  {
   "cell_type": "code",
   "execution_count": null,
   "metadata": {},
   "outputs": [],
   "source": [
    "# Make rudder data continuous by using -180 to 180 degree angles\n",
    "degrees = 360\n",
    "print(df_mod[cols_speed[3]].value_counts().sort_index(ascending=False).head())\n",
    "df_mod.loc[df_mod[cols_speed[3]] > 180, cols_speed[3]] -= degrees"
   ]
  },
  {
   "cell_type": "code",
   "execution_count": null,
   "metadata": {},
   "outputs": [],
   "source": [
    "# Replace 0.0 apparent wind speed records with median\n",
    "print(df_mod[cols_wind[0]].value_counts().sort_index().head())\n",
    "df_mod.loc[df_mod[cols_wind[0]] == 0, cols_wind[0]] = df_mod[df_mod[cols_wind[0]] > 0][cols_wind[0]].median()"
   ]
  },
  {
   "cell_type": "code",
   "execution_count": null,
   "metadata": {},
   "outputs": [],
   "source": [
    "# Replace 0.0 apparent wind direction records with median\n",
    "print(df_mod[cols_wind[1]].value_counts().head())\n",
    "df_mod.loc[df_mod[cols_wind[1]] == 0, cols_wind[1]] = df_mod[df_mod[cols_wind[1]] > 0][cols_wind[1]].median()"
   ]
  },
  {
   "cell_type": "code",
   "execution_count": null,
   "metadata": {},
   "outputs": [],
   "source": [
    "# Replace 0.0 true wind speed records with median\n",
    "print(df_mod[cols_wind[2]].value_counts().head())\n",
    "df_mod.loc[df_mod[cols_wind[2]] == 0, cols_wind[2]] = df_mod[df_mod[cols_wind[2]] > 0][cols_wind[2]].median()"
   ]
  },
  {
   "cell_type": "code",
   "execution_count": null,
   "metadata": {},
   "outputs": [],
   "source": [
    "# Replace 180.0 true wind direction records with median\n",
    "print(df_mod[cols_wind[3]].value_counts().head())\n",
    "df_mod.loc[df_mod[cols_wind[3]] == 180, cols_wind[3]] = df_mod[df_mod[cols_wind[3]] != 180][cols_wind[3]].median()"
   ]
  },
  {
   "cell_type": "code",
   "execution_count": null,
   "metadata": {},
   "outputs": [],
   "source": [
    "# Replace non-positive temperature records with median\n",
    "print(df_mod[cols_sea[0]].value_counts().sort_index().head())\n",
    "df_mod.loc[df_mod[cols_sea[0]] <= 0, cols_sea[0]] = df_mod[df_mod[cols_sea[0]] > 0][cols_sea[0]].median()"
   ]
  },
  {
   "cell_type": "code",
   "execution_count": null,
   "metadata": {},
   "outputs": [],
   "source": [
    "# Replace 0.0 sea current direction records with median\n",
    "print(df_mod[cols_sea[1]].value_counts().head())\n",
    "df_mod.loc[df_mod[cols_sea[1]] == 0, cols_sea[1]] = df_mod[df_mod[cols_sea[1]] > 0][cols_sea[1]].median()"
   ]
  },
  {
   "cell_type": "code",
   "execution_count": null,
   "metadata": {},
   "outputs": [],
   "source": [
    "# Replace 0.0 sea current speed records with median\n",
    "print(df_mod[cols_sea[2]].value_counts().head())\n",
    "df_mod.loc[df_mod[cols_sea[2]] == 0, cols_sea[2]] = df_mod[df_mod[cols_sea[2]] > 0][cols_sea[2]].median()"
   ]
  },
  {
   "cell_type": "code",
   "execution_count": null,
   "metadata": {},
   "outputs": [],
   "source": [
    "# Replace 0.0 wave height records with median\n",
    "print(df_mod[cols_wave[0]].value_counts().head())\n",
    "df_mod.loc[df_mod[cols_wave[0]] == 0, cols_wave[0]] = df_mod[df_mod[cols_wave[0]] > 0][cols_wave[0]].median()"
   ]
  },
  {
   "cell_type": "code",
   "execution_count": null,
   "metadata": {},
   "outputs": [],
   "source": [
    "# Replace 0.0 wave period records with median\n",
    "print(df_mod[cols_wave[1]].value_counts().head())\n",
    "df_mod.loc[df_mod[cols_wave[1]] == 0, cols_wave[1]] = df_mod[df_mod[cols_wave[1]] > 0][cols_wave[1]].median()"
   ]
  },
  {
   "cell_type": "code",
   "execution_count": null,
   "metadata": {},
   "outputs": [],
   "source": [
    "# Replace 0.0 wave direction records with median\n",
    "print(df_mod[cols_wave[2]].value_counts().head())\n",
    "df_mod.loc[df_mod[cols_wave[2]] == 0, cols_wave[2]] = df_mod[df_mod[cols_wave[2]] > 0][cols_wave[2]].median()"
   ]
  },
  {
   "cell_type": "markdown",
   "metadata": {},
   "source": [
    "### Descriptive Statistics"
   ]
  },
  {
   "cell_type": "code",
   "execution_count": null,
   "metadata": {},
   "outputs": [],
   "source": [
    "# Time and main engine\n",
    "df_mod[cols_main].describe()"
   ]
  },
  {
   "cell_type": "code",
   "execution_count": null,
   "metadata": {},
   "outputs": [],
   "source": [
    "# Draft sensors\n",
    "df_mod[cols_draft].describe()"
   ]
  },
  {
   "cell_type": "code",
   "execution_count": null,
   "metadata": {},
   "outputs": [],
   "source": [
    "# Shaft performance\n",
    "df_mod[cols_shaft].describe()"
   ]
  },
  {
   "cell_type": "code",
   "execution_count": null,
   "metadata": {},
   "outputs": [],
   "source": [
    "# Vessel speed\n",
    "df_mod[cols_speed].describe()"
   ]
  },
  {
   "cell_type": "code",
   "execution_count": null,
   "metadata": {},
   "outputs": [],
   "source": [
    "# Wind conditions\n",
    "df_mod[cols_wind].describe()"
   ]
  },
  {
   "cell_type": "code",
   "execution_count": null,
   "metadata": {},
   "outputs": [],
   "source": [
    "# Sea conditions\n",
    "df_mod[cols_sea].describe()"
   ]
  },
  {
   "cell_type": "code",
   "execution_count": null,
   "metadata": {},
   "outputs": [],
   "source": [
    "# Wave conditions\n",
    "df_mod[cols_wave].describe()"
   ]
  },
  {
   "cell_type": "markdown",
   "metadata": {},
   "source": [
    "### Outliers"
   ]
  },
  {
   "cell_type": "code",
   "execution_count": null,
   "metadata": {},
   "outputs": [],
   "source": [
    "# Check for outliers\n",
    "plt.figure(\"Distribution\", figsize=(16,4))\n",
    "df_mod[cols_main].boxplot()"
   ]
  },
  {
   "cell_type": "code",
   "execution_count": null,
   "metadata": {},
   "outputs": [],
   "source": [
    "# Check for outliers\n",
    "plt.figure(\"Distribution\", figsize=(16,4))\n",
    "df_mod[cols_shaft[0:1]].boxplot()"
   ]
  },
  {
   "cell_type": "code",
   "execution_count": null,
   "metadata": {},
   "outputs": [],
   "source": [
    "# Check for outliers\n",
    "plt.figure(\"Distribution\", figsize=(16,4))\n",
    "df_mod[cols_speed[0:2]].boxplot()"
   ]
  },
  {
   "cell_type": "code",
   "execution_count": null,
   "metadata": {},
   "outputs": [],
   "source": [
    "# Check for outliers\n",
    "plt.figure(\"Distribution\", figsize=(16,4))\n",
    "df_mod[cols_speed[2:4]].boxplot()"
   ]
  },
  {
   "cell_type": "code",
   "execution_count": null,
   "metadata": {},
   "outputs": [],
   "source": [
    "# Check for outliers\n",
    "plt.figure(\"Distribution\", figsize=(16,4))\n",
    "df_mod[cols_wind].boxplot()\n",
    "plt.xticks(rotation=5)"
   ]
  },
  {
   "cell_type": "code",
   "execution_count": null,
   "metadata": {},
   "outputs": [],
   "source": [
    "# Check for outliers\n",
    "plt.figure(\"Distribution\", figsize=(16,4))\n",
    "df_mod[cols_draft].boxplot()"
   ]
  },
  {
   "cell_type": "code",
   "execution_count": null,
   "metadata": {},
   "outputs": [],
   "source": [
    "# Check for outliers\n",
    "plt.figure(\"Distribution\", figsize=(16,4))\n",
    "df_mod[cols_sea].boxplot()\n",
    "plt.xticks(rotation=5)"
   ]
  },
  {
   "cell_type": "code",
   "execution_count": null,
   "metadata": {},
   "outputs": [],
   "source": [
    "# Check for outliers\n",
    "plt.figure(\"Distribution\", figsize=(16,4))\n",
    "df_mod[cols_wave].boxplot()\n",
    "plt.xticks(rotation=5)"
   ]
  },
  {
   "cell_type": "code",
   "execution_count": null,
   "metadata": {},
   "outputs": [],
   "source": [
    "# Drop records with shaft speed less than 40 RPM ~ 0.64% of records\n",
    "cutoff = 8\n",
    "print(df_mod[df_mod[cols_speed[0]] <= cutoff].shape[0] / n_records * 100)\n",
    "df_mod = df_mod.drop(df_mod[df_mod[cols_speed[0]] <= cutoff].index)\n",
    "print(df_mod[cols_speed[0]].value_counts().sort_index().head())\n",
    "df_mod[cols_speed[0]].hist(bins=30)"
   ]
  },
  {
   "cell_type": "code",
   "execution_count": null,
   "metadata": {
    "scrolled": false
   },
   "outputs": [],
   "source": [
    "# Drop records with fuel consumption in lowest quintile (less than 8 MT/day) ~ 40.6% of records\n",
    "cutoff = 16\n",
    "print(df_mod[df_mod[cols_main[1]] <= cutoff].shape[0] / n_records * 100)\n",
    "df_mod = df_mod.drop(df_mod[df_mod[cols_main[1]] <= cutoff].index)\n",
    "print(df_mod[cols_main[1]].value_counts().sort_index().head())\n",
    "df_mod[cols_main[1]].hist(bins=30)"
   ]
  },
  {
   "cell_type": "code",
   "execution_count": null,
   "metadata": {},
   "outputs": [],
   "source": [
    "# Drop records with shaft speed less than 40 RPM ~ 0.64% of records\n",
    "cutoff = 40\n",
    "print(df_mod[df_mod[cols_shaft[0]] <= cutoff].shape[0] / n_records * 100)\n",
    "df_mod = df_mod.drop(df_mod[df_mod[cols_shaft[0]] <= cutoff].index)\n",
    "print(df_mod[cols_shaft[0]].value_counts().sort_index().head())\n",
    "df_mod[cols_shaft[0]].hist(bins=30)"
   ]
  },
  {
   "cell_type": "code",
   "execution_count": null,
   "metadata": {},
   "outputs": [],
   "source": [
    "df_mod['Z Score'] = stats.zscore(df_mod[cols_main[1]], axis = 0)\n",
    "df_mod['Z Score'].hist(bins=30)"
   ]
  },
  {
   "cell_type": "code",
   "execution_count": null,
   "metadata": {},
   "outputs": [],
   "source": [
    "# Plot frequency distribution of fuel consumption\n",
    "df_mod[cols_main[1]].hist(bins=30)"
   ]
  },
  {
   "cell_type": "code",
   "execution_count": null,
   "metadata": {},
   "outputs": [],
   "source": [
    "# Plot frequency distribution of fuel consumption\n",
    "df_mod[cols_speed[0]].hist(bins=30)"
   ]
  },
  {
   "cell_type": "markdown",
   "metadata": {},
   "source": [
    "# Exploratory Data Analysis"
   ]
  },
  {
   "cell_type": "code",
   "execution_count": null,
   "metadata": {
    "scrolled": false
   },
   "outputs": [],
   "source": [
    "# Explore fuel consumption by fuel source\n",
    "df_hfo = df_mod[df_mod[cols_main[2]] == 1].copy()\n",
    "df_hfo['Fuel'] = 'Main Engine Using HFO'\n",
    "\n",
    "df_mgo = df_mod[df_mod[cols_main[3]] == 1].copy()\n",
    "df_mgo['Fuel'] = 'Main Engine Using MGO'\n",
    "\n",
    "# Drop records with zero fuel consumption (for EDA only)\n",
    "df_fuel = pd.concat([df_hfo, df_mgo])\n",
    "df_fuel = df_fuel[df_fuel[cols_main[1]] > 0]"
   ]
  },
  {
   "cell_type": "code",
   "execution_count": null,
   "metadata": {},
   "outputs": [],
   "source": [
    "# Print mean fuel consumption by fuel source\n",
    "df_fuel.groupby('Fuel')[cols_main].median()"
   ]
  },
  {
   "cell_type": "code",
   "execution_count": null,
   "metadata": {},
   "outputs": [],
   "source": [
    "# Plot fuel consumption by fuel source\n",
    "plt.figure('Fuel Source', figsize=(16,4))\n",
    "sns.boxplot(x='Fuel', y=cols_main[1], data=df_fuel)"
   ]
  },
  {
   "cell_type": "code",
   "execution_count": null,
   "metadata": {},
   "outputs": [],
   "source": [
    "# Investigate multi-collinearity of shaft sensors (Power = Speed x Torque x unit conversion)\n",
    "corr_shaft = df_mod[cols_shaft].corr()\n",
    "corr_shaft"
   ]
  },
  {
   "cell_type": "code",
   "execution_count": null,
   "metadata": {},
   "outputs": [],
   "source": [
    "# Investigate multi-collinearity of wind sensors\n",
    "corr_wind = df_mod[cols_wind].corr()\n",
    "corr_wind"
   ]
  },
  {
   "cell_type": "code",
   "execution_count": null,
   "metadata": {},
   "outputs": [],
   "source": [
    "# Investigate multi-collinearity of speed and heading sensors\n",
    "corr_speed = df_mod[cols_speed].corr()\n",
    "corr_speed"
   ]
  },
  {
   "cell_type": "markdown",
   "metadata": {},
   "source": [
    "# Feature Engineering"
   ]
  },
  {
   "cell_type": "code",
   "execution_count": null,
   "metadata": {},
   "outputs": [],
   "source": [
    "# Engineer features for mean draft, trim (aft heavy), list and positive list (possible nonlinear relationship)\n",
    "df_mod['Draft Mean (meters)'] = df_mod[cols_draft].mean(axis=1)\n",
    "df_mod['Trim (meters)']       = df_mod[cols_draft[0]] - df_mod[cols_draft[1]]\n",
    "df_mod['List (meters)']       = df_mod[cols_draft[2]] - df_mod[cols_draft[3]]\n",
    "df_mod['Abs List (meters)']   = df_mod['List (meters)'].abs()\n",
    "\n",
    "# Plot time series\n",
    "fig_draft_fe, axes_draft_fe = plt.subplots(4,1, figsize=(16,4*1.5), sharex=True)\n",
    "df_mod[['Draft Mean (meters)',\n",
    "        'Trim (meters)',\n",
    "        'List (meters)',\n",
    "        'Abs List (meters)']].plot(subplots=True, ax=axes_draft_fe)"
   ]
  },
  {
   "cell_type": "code",
   "execution_count": null,
   "metadata": {},
   "outputs": [],
   "source": [
    "# Engineer features for apparent sea current direction and speed\n",
    "col         = 'Weather Service Apparent Sea Current Direction (degrees from bow)'\n",
    "df_mod[col] = df_mod[cols_speed[2]] - df_mod[cols_sea[1]]"
   ]
  },
  {
   "cell_type": "code",
   "execution_count": null,
   "metadata": {
    "scrolled": false
   },
   "outputs": [],
   "source": [
    "# Plot time series\n",
    "fig_sea_fe, axes_sea_fe = plt.subplots(3,1, figsize=(16,3*1.5), sharex=True)\n",
    "df_mod[[cols_sea[0],\n",
    "        cols_sea[3],\n",
    "      'Weather Service Apparent Sea Current Direction (degrees from bow)']].plot(subplots=True, ax=axes_sea_fe)"
   ]
  },
  {
   "cell_type": "markdown",
   "metadata": {},
   "source": [
    "# Clean Data"
   ]
  },
  {
   "cell_type": "code",
   "execution_count": null,
   "metadata": {},
   "outputs": [],
   "source": [
    "# Reset DataFrame index after dropping records\n",
    "df_mod = df_mod.reset_index().drop('index',axis=1)"
   ]
  },
  {
   "cell_type": "markdown",
   "metadata": {},
   "source": [
    "# Regression Model"
   ]
  },
  {
   "cell_type": "code",
   "execution_count": null,
   "metadata": {},
   "outputs": [],
   "source": [
    "df_regr = df_mod[[\n",
    "    'Main Engine Fuel Consumption (MT/day)',\n",
    "    'Main Engine Using MGO (bool)',\n",
    "    'Draft Mean (meters)',\n",
    "    'Trim (meters)',\n",
    "    'List (meters)',\n",
    "    'Abs List (meters)',\n",
    "    'Shaft Speed (RPM)',\n",
    "    'Shaft Torque (kNm)',\n",
    "    'Speed Through Water (knots)',\n",
    "    'Heading (degrees)',\n",
    "    'Rudder Angle (degrees)',\n",
    "    'Weather Service Apparent Wind Speed (knots)',\n",
    "    'Weather Service Apparent Wind Direction (degrees from bow)',\n",
    "    'Weather Service Temperature (celsius)',\n",
    "    'Weather Service Sea Current Direction (degrees from north)',\n",
    "    'Weather Service Sea Current Speed (knots)',\n",
    "    'Water Depth (meters)',\n",
    "    'Weather Service Apparent Sea Current Direction (degrees from bow)']]\n",
    "df_regr.head()"
   ]
  },
  {
   "cell_type": "code",
   "execution_count": null,
   "metadata": {},
   "outputs": [],
   "source": [
    "y = df_regr['Main Engine Fuel Consumption (MT/day)']\n",
    "X = df_regr.drop('Main Engine Fuel Consumption (MT/day)',axis=1)\n",
    "regr = sm.OLS(y,X).fit()\n",
    "regr.summary()"
   ]
  },
  {
   "cell_type": "code",
   "execution_count": null,
   "metadata": {},
   "outputs": [],
   "source": [
    "residuals = regr.resid\n",
    "fig = sm.graphics.qqplot(residuals, dist=stats.norm, line='45', fit=True)\n",
    "fig.show()"
   ]
  },
  {
   "cell_type": "markdown",
   "metadata": {},
   "source": [
    "# Speed Scores"
   ]
  },
  {
   "cell_type": "code",
   "execution_count": null,
   "metadata": {},
   "outputs": [],
   "source": []
  },
  {
   "cell_type": "markdown",
   "metadata": {},
   "source": [
    "# Sensor Drift"
   ]
  },
  {
   "cell_type": "code",
   "execution_count": null,
   "metadata": {},
   "outputs": [],
   "source": []
  }
 ],
 "metadata": {
  "kernelspec": {
   "display_name": "Python 3",
   "language": "python",
   "name": "python3"
  },
  "language_info": {
   "codemirror_mode": {
    "name": "ipython",
    "version": 3
   },
   "file_extension": ".py",
   "mimetype": "text/x-python",
   "name": "python",
   "nbconvert_exporter": "python",
   "pygments_lexer": "ipython3",
   "version": "3.7.1"
  }
 },
 "nbformat": 4,
 "nbformat_minor": 2
}
